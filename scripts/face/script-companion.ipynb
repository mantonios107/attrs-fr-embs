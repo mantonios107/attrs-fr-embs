{
 "cells": [
  {
   "cell_type": "markdown",
   "id": "fc5c216c-3f2d-4af7-8a20-7acb3a157ae3",
   "metadata": {},
   "source": [
    "# <>"
   ]
  },
  {
   "cell_type": "markdown",
   "id": "6479bd8c-782a-41e2-8581-f268849c9d77",
   "metadata": {
    "tags": []
   },
   "source": [
    "# Staged"
   ]
  },
  {
   "cell_type": "code",
   "execution_count": 4,
   "id": "0490b20b-8913-4888-b92b-7864d62d4076",
   "metadata": {},
   "outputs": [
    {
     "ename": "ValueError",
     "evalue": "You shall not pass in the staged.",
     "output_type": "error",
     "traceback": [
      "\u001b[0;31m---------------------------------------------------------------------------\u001b[0m",
      "\u001b[0;31mValueError\u001b[0m                                Traceback (most recent call last)",
      "Input \u001b[0;32mIn [4]\u001b[0m, in \u001b[0;36m<module>\u001b[0;34m\u001b[0m\n\u001b[0;32m----> 1\u001b[0m \u001b[38;5;28;01mraise\u001b[39;00m \u001b[38;5;167;01mValueError\u001b[39;00m(\u001b[38;5;124m\"\u001b[39m\u001b[38;5;124mYou shall not pass in the staged.\u001b[39m\u001b[38;5;124m\"\u001b[39m)\n",
      "\u001b[0;31mValueError\u001b[0m: You shall not pass in the staged."
     ]
    }
   ],
   "source": [
    "raise ValueError(\"You shall not pass in the staged.\")"
   ]
  }
 ],
 "metadata": {
  "kernelspec": {
   "display_name": "Python [conda env:root] *",
   "language": "python",
   "name": "conda-root-py"
  },
  "language_info": {
   "codemirror_mode": {
    "name": "ipython",
    "version": 3
   },
   "file_extension": ".py",
   "mimetype": "text/x-python",
   "name": "python",
   "nbconvert_exporter": "python",
   "pygments_lexer": "ipython3",
   "version": "3.10.9"
  }
 },
 "nbformat": 4,
 "nbformat_minor": 5
}
